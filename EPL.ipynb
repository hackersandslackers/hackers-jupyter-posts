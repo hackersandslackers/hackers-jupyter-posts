{
 "cells": [
  {
   "cell_type": "code",
   "execution_count": 2,
   "metadata": {},
   "outputs": [],
   "source": [
    "import pandas as pd\n",
    "import numpy as np\n",
    "import pulp\n",
    "import math\n",
    "import toolz as tz"
   ]
  },
  {
   "cell_type": "code",
   "execution_count": 12,
   "metadata": {},
   "outputs": [],
   "source": [
    "from typing import List, Callable, Dict\n",
    "\n",
    "\n",
    "def assign_split_col(df: pd.DataFrame, col: str, name_list: List[str], pat: str = None):\n",
    "    df = df.copy()\n",
    "    split_col = df[col].str.split(pat, expand=True)\n",
    "\n",
    "    return df.assign(\n",
    "        **dict(\n",
    "            zip(name_list, [split_col.iloc[:, x] for x in range(split_col.shape[1])])\n",
    "        )\n",
    "    )\n",
    "\n",
    "\n",
    "def create_position_constraint(\n",
    "    df: pd.DataFrame,\n",
    "    inlusion_dct: Dict[str, pulp.pulp.LpVariable],\n",
    "    position: str,\n",
    "    constraint: Callable,\n",
    ") -> pulp.pulp.LpConstraint:\n",
    "\n",
    "    pulp_sum = pulp.lpSum(\n",
    "        tz.dicttoolz.keyfilter(\n",
    "            lambda x: x in df.query(f\"position == '{position}'\")[\"name\"].to_list(),\n",
    "            inlusion_dct,\n",
    "        )\n",
    "    )\n",
    "    return constraint(pulp_sum)\n",
    "\n",
    "\n",
    "# create_position_constraint(edited, include, \"QB\", lambda x: x==3)\n",
    "\n",
    "\n",
    "def create_flexible_position_constraint(\n",
    "    df: pd.DataFrame,\n",
    "    inlusion_dct: Dict[str, pulp.pulp.LpVariable],\n",
    "    positions: List[str],\n",
    "    constraint: Callable,\n",
    ") -> pulp.pulp.LpConstraint:\n",
    "\n",
    "    pulp_sum = pulp.lpSum(\n",
    "        tz.dicttoolz.keyfilter(\n",
    "            lambda x: x\n",
    "            in df.loc[lambda y: y[\"position\"].isin(positions), \"name\"].to_list(),\n",
    "            inlusion_dct,\n",
    "        )\n",
    "    )\n",
    "    return constraint(pulp_sum)\n",
    "\n",
    "\n",
    "# create_flexible_position_constraint(edited, include,\n",
    "#                                    ['RB', 'WR', 'TE'], lambda x: x==3)\n",
    "\n",
    "\n",
    "def get_total_for_players(\n",
    "    df: pd.DataFrame,\n",
    "    inlusion_dct: Dict[str, pulp.pulp.LpVariable],\n",
    "    col: str,\n",
    "    multiplier: float = 1,\n",
    ") -> pulp.pulp.LpAffineExpression:\n",
    "\n",
    "    players = df[\"name\"].to_list()\n",
    "\n",
    "    ser = df.set_index(\"name\")[col]\n",
    "\n",
    "    return pulp.lpSum(\n",
    "        [inlusion_dct[player] * ser[player] * multiplier for player in players]\n",
    "    )\n",
    "\n",
    "\n",
    "# get_total_for_players(edited, include, \"salary\")\n",
    "# get_total_for_players(edited, ImTheCaptainNow, \"salary\", 1.5)\n",
    "\n",
    "\n",
    "def epl_single_game(df: pd.DataFrame, salary: int, best_value: int) -> List[str]:\n",
    "    # Defender isn't always the last one returned.  Gotta look it up.\n",
    "\n",
    "    players = df[\"name\"].to_list()\n",
    "\n",
    "    include = pulp.LpVariable.dict(\n",
    "        \"include\", [player for player in players], lowBound=0, upBound=1, cat=\"Integer\"\n",
    "    )\n",
    "\n",
    "    # Captain can only be a FWD or MID\n",
    "    captain_df = df.loc[lambda y: y[\"position\"].isin([\"FWD\", \"MID\"])]\n",
    "    captain_players = captain_df[\"name\"].to_list()\n",
    "\n",
    "    ImTheCaptainNow = pulp.LpVariable.dict(\n",
    "        \"ImTheCaptainNow\",\n",
    "        [player for player in captain_players],\n",
    "        lowBound=0,\n",
    "        upBound=1,\n",
    "        cat=\"Integer\",\n",
    "    )\n",
    "\n",
    "    prob = pulp.LpProblem(\"optimal_lineup\", pulp.LpMaximize)\n",
    "\n",
    "    prob += pulp.lpSum(\n",
    "        get_total_for_players(df, include, \"FPPG\")\n",
    "        + get_total_for_players(captain_df, ImTheCaptainNow, \"FPPG\", 1.5)\n",
    "    )\n",
    "\n",
    "    prob += pulp.lpSum([include[player] for player in players]) == 4\n",
    "\n",
    "    prob += pulp.lpSum([ImTheCaptainNow[player] for player in captain_players]) == 1\n",
    "\n",
    "    for player in captain_players:\n",
    "        prob += pulp.lpSum(include[player] + ImTheCaptainNow[player]) <= 1.0\n",
    "\n",
    "    prob += create_position_constraint(df, include, \"DEF\", lambda x: x == 1)\n",
    "\n",
    "    prob += create_flexible_position_constraint(\n",
    "        df, include, [\"FWD\", \"MID\"], lambda x: x == 3\n",
    "    )\n",
    "\n",
    "    prob += (\n",
    "        pulp.lpSum(\n",
    "            get_total_for_players(df, include, \"salary\")\n",
    "            + get_total_for_players(captain_df, ImTheCaptainNow, \"salary\")\n",
    "        )\n",
    "        <= salary\n",
    "    )\n",
    "    prob += (\n",
    "        pulp.lpSum(\n",
    "            get_total_for_players(df, include, \"FPPG\")\n",
    "            + get_total_for_players(captain_df, ImTheCaptainNow, \"FPPG\", 1.5)\n",
    "        )\n",
    "        <= best_value\n",
    "    )\n",
    "\n",
    "    prob.solve()\n",
    "    \n",
    "    \n",
    "    #Format it the way the CSV upload function on FanDuel expects it\n",
    "    captain = (\n",
    "        tz.itertoolz.first(\n",
    "            tz.dicttoolz.itemfilter(\n",
    "                lambda item: item[1].varValue == 1, ImTheCaptainNow\n",
    "            ).keys()\n",
    "        ),\n",
    "        \"Captain\",\n",
    "    )\n",
    "\n",
    "    rest_of_team = list(\n",
    "        tz.dicttoolz.itemfilter(lambda item: item[1].varValue == 1, include).keys()\n",
    "    )\n",
    "    players_and_positions = df.set_index(\"name\").loc[rest_of_team, \"position\"]\n",
    "\n",
    "    fwds_and_mids = players_and_positions.loc[lambda x: x.isin([\"MID\", \"FWD\"])]\n",
    "\n",
    "    defense = players_and_positions.loc[lambda x: x == \"DEF\"]\n",
    "\n",
    "    whole_team = tz.itertoolz.concat(\n",
    "        [(captain,), fwds_and_mids.items(), defense.items()]\n",
    "    )\n",
    "\n",
    "    return pd.DataFrame(whole_team).T.iloc[::-1]"
   ]
  },
  {
   "cell_type": "code",
   "execution_count": 4,
   "metadata": {},
   "outputs": [],
   "source": [
    "filename =\"FanDuel-EPL-2020-01-29-42993-players-list.csv\"\n",
    "raw_df = pd.read_csv(filename)"
   ]
  },
  {
   "cell_type": "code",
   "execution_count": 6,
   "metadata": {},
   "outputs": [],
   "source": [
    "df = (\n",
    "    raw_df.loc[lambda x: x[\"Injury Indicator\"].isna()]\n",
    "    .pipe(assign_split_col, \"Id\", [\"slate_id\", \"player_id\"], pat=\"-\")\n",
    "    .assign(name=lambda x: x[\"First Name\"] + \" \" + x[\"Last Name\"])\n",
    "    .rename(columns={\"Position\": \"position\", \"Salary\": \"salary\"})\n",
    "    .loc[:, [\"slate_id\", \"player_id\", \"salary\", \"position\", \"name\", \"FPPG\"]]\n",
    ")\n",
    "#Injuries don't necessarily show up in the Indicator - do have to doublecheck"
   ]
  },
  {
   "cell_type": "code",
   "execution_count": 13,
   "metadata": {},
   "outputs": [
    {
     "data": {
      "text/html": [
       "<div>\n",
       "<style scoped>\n",
       "    .dataframe tbody tr th:only-of-type {\n",
       "        vertical-align: middle;\n",
       "    }\n",
       "\n",
       "    .dataframe tbody tr th {\n",
       "        vertical-align: top;\n",
       "    }\n",
       "\n",
       "    .dataframe thead th {\n",
       "        text-align: right;\n",
       "    }\n",
       "</style>\n",
       "<table border=\"1\" class=\"dataframe\">\n",
       "  <thead>\n",
       "    <tr style=\"text-align: right;\">\n",
       "      <th></th>\n",
       "      <th>0</th>\n",
       "      <th>1</th>\n",
       "      <th>2</th>\n",
       "      <th>3</th>\n",
       "      <th>4</th>\n",
       "    </tr>\n",
       "  </thead>\n",
       "  <tbody>\n",
       "    <tr>\n",
       "      <th>1</th>\n",
       "      <td>Captain</td>\n",
       "      <td>FWD</td>\n",
       "      <td>MID</td>\n",
       "      <td>MID</td>\n",
       "      <td>DEF</td>\n",
       "    </tr>\n",
       "    <tr>\n",
       "      <th>0</th>\n",
       "      <td>Mohamed Salah Ghaly</td>\n",
       "      <td>Roberto Firmino Barbosa de Oliveira</td>\n",
       "      <td>Declan Rice</td>\n",
       "      <td>Naby Keita</td>\n",
       "      <td>Trent Alexander-Arnold</td>\n",
       "    </tr>\n",
       "  </tbody>\n",
       "</table>\n",
       "</div>"
      ],
      "text/plain": [
       "                     0                                    1            2  \\\n",
       "1              Captain                                  FWD          MID   \n",
       "0  Mohamed Salah Ghaly  Roberto Firmino Barbosa de Oliveira  Declan Rice   \n",
       "\n",
       "            3                       4  \n",
       "1         MID                     DEF  \n",
       "0  Naby Keita  Trent Alexander-Arnold  "
      ]
     },
     "execution_count": 13,
     "metadata": {},
     "output_type": "execute_result"
    }
   ],
   "source": [
    "lineup = epl_single_game(df, 50, 1000)\n",
    "lineup"
   ]
  },
  {
   "cell_type": "code",
   "execution_count": 8,
   "metadata": {},
   "outputs": [
    {
     "data": {
      "text/plain": [
       "89.95956473972485"
      ]
     },
     "execution_count": 8,
     "metadata": {},
     "output_type": "execute_result"
    }
   ],
   "source": [
    "df.set_index(\"name\").loc[lineup, \"FPPG\"].sum()"
   ]
  },
  {
   "cell_type": "code",
   "execution_count": 9,
   "metadata": {},
   "outputs": [],
   "source": [
    "#Let's see the Expected Value if I drop Naby, who might not play tomorrow"
   ]
  },
  {
   "cell_type": "code",
   "execution_count": 10,
   "metadata": {},
   "outputs": [
    {
     "data": {
      "text/plain": [
       "['Mohamed Salah Ghaly',\n",
       " 'Roberto Firmino Barbosa de Oliveira',\n",
       " 'Trent Alexander-Arnold',\n",
       " 'Declan Rice',\n",
       " 'Georginio Wijnaldum']"
      ]
     },
     "execution_count": 10,
     "metadata": {},
     "output_type": "execute_result"
    }
   ],
   "source": [
    "lineup2 = epl_single_game(df[lambda x: x[\"name\"]!=\"Naby Keita\"], 50, 1000)\n",
    "lineup2"
   ]
  },
  {
   "cell_type": "code",
   "execution_count": 11,
   "metadata": {},
   "outputs": [
    {
     "data": {
      "text/plain": [
       "86.03956504490064"
      ]
     },
     "execution_count": 11,
     "metadata": {},
     "output_type": "execute_result"
    }
   ],
   "source": [
    "df.set_index(\"name\").loc[lineup2, \"FPPG\"].sum()"
   ]
  },
  {
   "cell_type": "code",
   "execution_count": null,
   "metadata": {},
   "outputs": [],
   "source": []
  }
 ],
 "metadata": {
  "kernelspec": {
   "display_name": "Python [conda env:py_37]",
   "language": "python",
   "name": "conda-env-py_37-py"
  },
  "language_info": {
   "codemirror_mode": {
    "name": "ipython",
    "version": 3
   },
   "file_extension": ".py",
   "mimetype": "text/x-python",
   "name": "python",
   "nbconvert_exporter": "python",
   "pygments_lexer": "ipython3",
   "version": "3.7.3"
  }
 },
 "nbformat": 4,
 "nbformat_minor": 4
}
