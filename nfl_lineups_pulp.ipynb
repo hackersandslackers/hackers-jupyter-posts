{
 "cells": [
  {
   "cell_type": "code",
   "execution_count": 1,
   "metadata": {},
   "outputs": [],
   "source": [
    "import pandas as pd\n",
    "import numpy as np\n",
    "import pulp\n",
    "import math\n",
    "import toolz as tz\n",
    "from typing import List, Callable, Dict"
   ]
  },
  {
   "cell_type": "code",
   "execution_count": 2,
   "metadata": {},
   "outputs": [],
   "source": [
    "def assign_split_col(df: pd.DataFrame, col: str, name_list: List[str], pat: str = None):\n",
    "    df = df.copy()\n",
    "    split_col = df[col].str.split(pat, expand=True)\n",
    "\n",
    "    return df.assign(\n",
    "        **dict(\n",
    "            zip(name_list, [split_col.iloc[:, x] for x in range(split_col.shape[1])])\n",
    "        )\n",
    "    )\n",
    "\n",
    "\n",
    "def create_position_constraint(\n",
    "    df: pd.DataFrame,\n",
    "    inlusion_dct: Dict[str, pulp.pulp.LpVariable],\n",
    "    position: str,\n",
    "    constraint: Callable,\n",
    ") -> pulp.pulp.LpConstraint:\n",
    "\n",
    "    pulp_sum = pulp.lpSum(\n",
    "        tz.dicttoolz.keyfilter(\n",
    "            lambda x: x in df.query(f\"position == '{position}'\")[\"name\"].to_list(),\n",
    "            inlusion_dct,\n",
    "        )\n",
    "    )\n",
    "    return constraint(pulp_sum)\n",
    "\n",
    "\n",
    "# create_position_constraint(edited, include, \"QB\", lambda x: x==3)\n",
    "\n",
    "\n",
    "def create_flexible_position_constraint(\n",
    "    df: pd.DataFrame,\n",
    "    inlusion_dct: Dict[str, pulp.pulp.LpVariable],\n",
    "    positions: List[str],\n",
    "    constraint: Callable,\n",
    ") -> pulp.pulp.LpConstraint:\n",
    "\n",
    "    pulp_sum = pulp.lpSum(\n",
    "        tz.dicttoolz.keyfilter(\n",
    "            lambda x: x\n",
    "            in df.loc[lambda y: y[\"position\"].isin(positions), \"name\"].to_list(),\n",
    "            inlusion_dct,\n",
    "        )\n",
    "    )\n",
    "    return constraint(pulp_sum)\n",
    "\n",
    "\n",
    "# create_flexible_position_constraint(edited, include,\n",
    "#                                    ['RB', 'WR', 'TE'], lambda x: x==3)\n",
    "\n",
    "\n",
    "def get_total_for_players(\n",
    "    df: pd.DataFrame,\n",
    "    inlusion_dct: Dict[str, pulp.pulp.LpVariable],\n",
    "    col: str,\n",
    "    multiplier: float = 1,\n",
    ") -> pulp.pulp.LpAffineExpression:\n",
    "\n",
    "    players = df[\"name\"].to_list()\n",
    "\n",
    "    ser = df.set_index(\"name\")[col]\n",
    "\n",
    "    return pulp.lpSum(\n",
    "        [inlusion_dct[player] * ser[player] * multiplier for player in players]\n",
    "    )\n",
    "\n",
    "\n",
    "# get_total_for_players(edited, include, \"salary\")\n",
    "# get_total_for_players(edited, ImTheCaptainNow, \"salary\", 1.5)\n",
    "\n",
    "\n",
    "def nfl_single_game(df: pd.DataFrame, salary: int, best_value: int) -> List[str]:\n",
    "    players = df[\"name\"].to_list()\n",
    "    include = pulp.LpVariable.dict(\n",
    "        \"include\", [player for player in players], lowBound=0, upBound=1, cat=\"Integer\"\n",
    "    )\n",
    "\n",
    "    ImTheCaptainNow = pulp.LpVariable.dict(\n",
    "        \"ImTheCaptainNow\",\n",
    "        [player for player in players],\n",
    "        lowBound=0,\n",
    "        upBound=1,\n",
    "        cat=\"Integer\",\n",
    "    )\n",
    "\n",
    "    prob = pulp.LpProblem(\"optimal_lineup\", pulp.LpMaximize)\n",
    "\n",
    "    prob += pulp.lpSum(\n",
    "        get_total_for_players(df, include, \"FPPG\")\n",
    "        + get_total_for_players(df, ImTheCaptainNow, \"FPPG\", 1.5)\n",
    "    )\n",
    "\n",
    "    prob += pulp.lpSum([include[player] for player in players]) == 4\n",
    "\n",
    "    prob += pulp.lpSum([ImTheCaptainNow[player] for player in players]) == 1\n",
    "\n",
    "    for player in players:\n",
    "        prob += pulp.lpSum(include[player] + ImTheCaptainNow[player]) <= 1.0\n",
    "\n",
    "    best_value = 1000.0\n",
    "\n",
    "    prob += (\n",
    "        pulp.lpSum(\n",
    "            get_total_for_players(df, include, \"salary\")\n",
    "            + get_total_for_players(df, ImTheCaptainNow, \"salary\")\n",
    "        )\n",
    "        <= salary\n",
    "    )\n",
    "    prob += (\n",
    "        pulp.lpSum(\n",
    "            get_total_for_players(df, include, \"FPPG\")\n",
    "            + get_total_for_players(df, ImTheCaptainNow, \"FPPG\", 1.5)\n",
    "        )\n",
    "        <= best_value\n",
    "    )\n",
    "\n",
    "    prob.solve()\n",
    "\n",
    "    return list(\n",
    "        tz.itertoolz.concat(\n",
    "            [\n",
    "                tz.dicttoolz.itemfilter(\n",
    "                    lambda item: item[1].varValue == 1, ImTheCaptainNow\n",
    "                ).keys(),\n",
    "                tz.dicttoolz.itemfilter(\n",
    "                    lambda item: item[1].varValue == 1, include\n",
    "                ).keys(),\n",
    "            ]\n",
    "        )\n",
    "    )"
   ]
  },
  {
   "cell_type": "code",
   "execution_count": 3,
   "metadata": {},
   "outputs": [],
   "source": [
    "filename =\"FanDuel-NFL-2020-02-02-42874-players-list.csv\"\n",
    "df = pd.read_csv(filename)"
   ]
  },
  {
   "cell_type": "code",
   "execution_count": 4,
   "metadata": {},
   "outputs": [],
   "source": [
    "edited = (\n",
    "    df.loc[lambda x: x[\"Injury Indicator\"].isna()]\n",
    "    .pipe(assign_split_col, \"Id\", [\"slate_id\", \"player_id\"], pat=\"-\")\n",
    "    .assign(name=lambda x: x[\"First Name\"] + \" \" + x[\"Last Name\"])\n",
    "    .rename(columns={\"Position\": \"position\", \"Salary\": \"salary\"})\n",
    "    .loc[:, [\"slate_id\", \"player_id\", \"salary\", \"position\", \"name\", \"FPPG\"]]\n",
    ")"
   ]
  },
  {
   "cell_type": "code",
   "execution_count": 5,
   "metadata": {},
   "outputs": [
    {
     "data": {
      "text/plain": [
       "[['Patrick Mahomes',\n",
       "  'Jimmy Garoppolo',\n",
       "  'Travis Kelce',\n",
       "  'Tyreek Hill',\n",
       "  'C.J. Beathard'],\n",
       " ['Patrick Mahomes',\n",
       "  'Jimmy Garoppolo',\n",
       "  'Travis Kelce',\n",
       "  'Tyreek Hill',\n",
       "  'C.J. Beathard'],\n",
       " ['Patrick Mahomes',\n",
       "  'Jimmy Garoppolo',\n",
       "  'Travis Kelce',\n",
       "  'Tyreek Hill',\n",
       "  'C.J. Beathard'],\n",
       " ['Patrick Mahomes',\n",
       "  'Jimmy Garoppolo',\n",
       "  'Travis Kelce',\n",
       "  'Tyreek Hill',\n",
       "  'C.J. Beathard'],\n",
       " ['Patrick Mahomes',\n",
       "  'Jimmy Garoppolo',\n",
       "  'Travis Kelce',\n",
       "  'Tyreek Hill',\n",
       "  'C.J. Beathard']]"
      ]
     },
     "execution_count": 5,
     "metadata": {},
     "output_type": "execute_result"
    }
   ],
   "source": [
    "lineups = [nfl_single_game(edited, 60000, 1000) for _ in range(5)]\n",
    "lineups"
   ]
  },
  {
   "cell_type": "code",
   "execution_count": 6,
   "metadata": {},
   "outputs": [
    {
     "data": {
      "text/plain": [
       "79.66350218454997"
      ]
     },
     "execution_count": 6,
     "metadata": {},
     "output_type": "execute_result"
    }
   ],
   "source": [
    "edited.set_index(\"name\").loc[lineups[0], \"FPPG\"].sum()"
   ]
  },
  {
   "cell_type": "code",
   "execution_count": 7,
   "metadata": {},
   "outputs": [
    {
     "data": {
      "text/plain": [
       "59500"
      ]
     },
     "execution_count": 7,
     "metadata": {},
     "output_type": "execute_result"
    }
   ],
   "source": [
    "edited.set_index(\"name\").loc[lineups[0], \"salary\"].sum()"
   ]
  },
  {
   "cell_type": "code",
   "execution_count": 8,
   "metadata": {},
   "outputs": [],
   "source": [
    "lineups = [nfl_single_game(edited, 60000, 1000) for _ in range(150)]"
   ]
  },
  {
   "cell_type": "code",
   "execution_count": 9,
   "metadata": {},
   "outputs": [],
   "source": [
    "#Checking to see if they're all the same\n",
    "scores = [edited.set_index(\"name\").loc[lineup, \"FPPG\"].sum() for lineup in lineups]"
   ]
  },
  {
   "cell_type": "code",
   "execution_count": 10,
   "metadata": {},
   "outputs": [
    {
     "data": {
      "text/plain": [
       "{79.66350218454997}"
      ]
     },
     "execution_count": 10,
     "metadata": {},
     "output_type": "execute_result"
    }
   ],
   "source": [
    "set(scores)"
   ]
  },
  {
   "cell_type": "code",
   "execution_count": null,
   "metadata": {},
   "outputs": [],
   "source": []
  }
 ],
 "metadata": {
  "kernelspec": {
   "display_name": "Python [conda env:py_37]",
   "language": "python",
   "name": "conda-env-py_37-py"
  },
  "language_info": {
   "codemirror_mode": {
    "name": "ipython",
    "version": 3
   },
   "file_extension": ".py",
   "mimetype": "text/x-python",
   "name": "python",
   "nbconvert_exporter": "python",
   "pygments_lexer": "ipython3",
   "version": "3.7.3"
  }
 },
 "nbformat": 4,
 "nbformat_minor": 4
}
